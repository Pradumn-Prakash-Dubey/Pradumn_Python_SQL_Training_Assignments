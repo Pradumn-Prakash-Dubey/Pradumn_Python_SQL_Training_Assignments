{
    "metadata": {
        "kernelspec": {
            "name": "SQL",
            "display_name": "SQL",
            "language": "sql"
        },
        "language_info": {
            "name": "sql",
            "version": ""
        }
    },
    "nbformat_minor": 2,
    "nbformat": 4,
    "cells": [
        {
            "cell_type": "markdown",
            "source": [
                "### **ASSIGNMENT 14.1**"
            ],
            "metadata": {
                "azdata_cell_guid": "a47be252-c219-451d-bbbd-ca60cab7a943"
            },
            "attachments": {}
        },
        {
            "cell_type": "code",
            "source": [
                "CREATE DATABASE book_reviews;"
            ],
            "metadata": {
                "azdata_cell_guid": "6a876d95-07a2-40fc-a25a-2b74284e3148",
                "language": "sql"
            },
            "outputs": [
                {
                    "output_type": "display_data",
                    "data": {
                        "text/html": "Commands completed successfully."
                    },
                    "metadata": {}
                },
                {
                    "output_type": "display_data",
                    "data": {
                        "text/html": "Total execution time: 00:00:00.553"
                    },
                    "metadata": {}
                }
            ],
            "execution_count": 2
        },
        {
            "cell_type": "code",
            "source": [
                "use book_reviews"
            ],
            "metadata": {
                "azdata_cell_guid": "ae019e8e-b1fd-4c17-bee3-cb9774f43c31",
                "language": "sql"
            },
            "outputs": [
                {
                    "output_type": "display_data",
                    "data": {
                        "text/html": "Commands completed successfully."
                    },
                    "metadata": {}
                },
                {
                    "output_type": "display_data",
                    "data": {
                        "text/html": "Total execution time: 00:00:00.194"
                    },
                    "metadata": {}
                }
            ],
            "execution_count": 3
        },
        {
            "cell_type": "code",
            "source": [
                "CREATE TABLE Publishers (\r\n",
                "    publisher_id INT IDENTITY PRIMARY KEY,\r\n",
                "    name VARCHAR(255) NOT NULL,\r\n",
                "    address VARCHAR(255),\r\n",
                "    website VARCHAR(255)\r\n",
                ");\r\n",
                "\r\n",
                "CREATE TABLE Books (\r\n",
                "    book_id INT IDENTITY PRIMARY KEY,\r\n",
                "    title VARCHAR(255) NOT NULL,\r\n",
                "    cover VARCHAR(255),\r\n",
                "    publisher_id INT,\r\n",
                "    FOREIGN KEY (publisher_id) REFERENCES Publishers(publisher_id)\r\n",
                ");\r\n",
                "\r\n",
                "\r\n",
                "CREATE TABLE Reviewers (\r\n",
                "    reviewer_id INT IDENTITY PRIMARY KEY,\r\n",
                "    name VARCHAR(255) NOT NULL,\r\n",
                "    email VARCHAR(255) UNIQUE\r\n",
                ");\r\n",
                "\r\n",
                "CREATE TABLE Reviews (\r\n",
                "    review_id INT IDENTITY PRIMARY KEY,\r\n",
                "    reviewer_id INT,\r\n",
                "    book_id INT,\r\n",
                "    title VARCHAR(255) NOT NULL,\r\n",
                "    details TEXT,\r\n",
                "    rating INT CHECK (rating BETWEEN 1 AND 5),\r\n",
                "    FOREIGN KEY (reviewer_id) REFERENCES Reviewers(reviewer_id),\r\n",
                "    FOREIGN KEY (book_id) REFERENCES Books(book_id)\r\n",
                ");\r\n",
                "\r\n",
                ""
            ],
            "metadata": {
                "azdata_cell_guid": "224fec7f-39a3-46f0-a8b2-a755da025c03",
                "language": "sql"
            },
            "outputs": [
                {
                    "output_type": "display_data",
                    "data": {
                        "text/html": "Commands completed successfully."
                    },
                    "metadata": {}
                },
                {
                    "output_type": "display_data",
                    "data": {
                        "text/html": "Total execution time: 00:00:00.028"
                    },
                    "metadata": {}
                }
            ],
            "execution_count": 7
        },
        {
            "cell_type": "code",
            "source": [
                "CREATE TABLE ISBNs (\r\n",
                "    isbn_id INT IDENTITY PRIMARY KEY,\r\n",
                "    book_id INT,\r\n",
                "    format VARCHAR(255) NOT NULL\r\n",
                "    CHECK (format IN('paperback', 'ebook', 'audiobook', 'hardbound')),\r\n",
                "    price DECIMAL(10, 2),\r\n",
                "    FOREIGN KEY (book_id) REFERENCES Books(book_id)\r\n",
                ");"
            ],
            "metadata": {
                "azdata_cell_guid": "83f384de-dbfb-4abd-bdaf-481c4f12b2dd",
                "language": "sql"
            },
            "outputs": [
                {
                    "output_type": "display_data",
                    "data": {
                        "text/html": "Commands completed successfully."
                    },
                    "metadata": {}
                },
                {
                    "output_type": "display_data",
                    "data": {
                        "text/html": "Total execution time: 00:00:00.075"
                    },
                    "metadata": {}
                }
            ],
            "execution_count": 13
        },
        {
            "cell_type": "code",
            "source": [
                "INSERT INTO Publishers (name, address, website) VALUES\r\n",
                "    ('Sample Publisher 1', '123 Main St', 'www.publisher1.com'),\r\n",
                "    ('Sample Publisher 2', '456 Elm St', 'www.publisher2.com');\r\n",
                "\r\n",
                "INSERT INTO Books (title, cover, publisher_id) VALUES\r\n",
                "    ('Book Title 1', 'Cover 1.jpg', 1),\r\n",
                "    ('Book Title 2', 'Cover 2.jpg', 2);\r\n",
                "\r\n",
                "INSERT INTO ISBNs (book_id, format, price) VALUES\r\n",
                "    (1, 'paperback', 19.99),\r\n",
                "    (1, 'ebook', 9.99),\r\n",
                "    (2, 'hardbound', 29.99);\r\n",
                "\r\n",
                "INSERT INTO Reviewers (name, email) VALUES\r\n",
                "    ('Reviewer 1', 'reviewer1@example1.com'),\r\n",
                "    ('Reviewer 2', 'reviewer2@example2.com');\r\n",
                "\r\n",
                "INSERT INTO Reviews (reviewer_id, book_id, title, details, rating) VALUES\r\n",
                "    (1, 1, 'Review Title 1', 'This is a great book!', 5),\r\n",
                "    (2, 1, 'Review Title 2', 'I enjoyed reading this book.', 4);"
            ],
            "metadata": {
                "azdata_cell_guid": "ce10fd60-7991-4c0c-af39-83d90a847797",
                "language": "sql"
            },
            "outputs": [
                {
                    "output_type": "display_data",
                    "data": {
                        "text/html": "(2 rows affected)"
                    },
                    "metadata": {}
                },
                {
                    "output_type": "display_data",
                    "data": {
                        "text/html": "(2 rows affected)"
                    },
                    "metadata": {}
                },
                {
                    "output_type": "display_data",
                    "data": {
                        "text/html": "(3 rows affected)"
                    },
                    "metadata": {}
                },
                {
                    "output_type": "display_data",
                    "data": {
                        "text/html": "(2 rows affected)"
                    },
                    "metadata": {}
                },
                {
                    "output_type": "display_data",
                    "data": {
                        "text/html": "(2 rows affected)"
                    },
                    "metadata": {}
                },
                {
                    "output_type": "display_data",
                    "data": {
                        "text/html": "Total execution time: 00:00:00.081"
                    },
                    "metadata": {}
                }
            ],
            "execution_count": 28
        }
    ]
}