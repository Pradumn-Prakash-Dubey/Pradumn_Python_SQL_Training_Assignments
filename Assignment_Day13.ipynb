{
    "metadata": {
        "kernelspec": {
            "name": "SQL",
            "display_name": "SQL",
            "language": "sql"
        },
        "language_info": {
            "name": "sql",
            "version": ""
        }
    },
    "nbformat_minor": 2,
    "nbformat": 4,
    "cells": [
        {
            "cell_type": "code",
            "source": [
                "alter database ecolab_books_db set single_user with rollback immediate\r\n",
                "drop database ecolab_books_db"
            ],
            "metadata": {
                "azdata_cell_guid": "7d11d5fe-1be7-45b0-be39-2ba352efeac8",
                "language": "sql"
            },
            "outputs": [
                {
                    "output_type": "display_data",
                    "data": {
                        "text/html": "Nonqualified transactions are being rolled back. Estimated rollback completion: 0%."
                    },
                    "metadata": {}
                },
                {
                    "output_type": "display_data",
                    "data": {
                        "text/html": "Nonqualified transactions are being rolled back. Estimated rollback completion: 100%."
                    },
                    "metadata": {}
                },
                {
                    "output_type": "display_data",
                    "data": {
                        "text/html": "Total execution time: 00:00:03.089"
                    },
                    "metadata": {}
                }
            ],
            "execution_count": 1
        },
        {
            "cell_type": "code",
            "source": [
                "create database ecolab_books_db"
            ],
            "metadata": {
                "language": "sql",
                "azdata_cell_guid": "dde55d3c-ba55-43e6-b52f-671047cea06c"
            },
            "outputs": [
                {
                    "output_type": "display_data",
                    "data": {
                        "text/html": "Commands completed successfully."
                    },
                    "metadata": {}
                },
                {
                    "output_type": "display_data",
                    "data": {
                        "text/html": "Total execution time: 00:00:00.688"
                    },
                    "metadata": {}
                }
            ],
            "execution_count": 2
        },
        {
            "cell_type": "code",
            "source": [
                "use ecolab_books_db"
            ],
            "metadata": {
                "language": "sql",
                "azdata_cell_guid": "cf3a5e92-e05d-468c-9aaa-6b90d0cc9773"
            },
            "outputs": [
                {
                    "output_type": "display_data",
                    "data": {
                        "text/html": "Commands completed successfully."
                    },
                    "metadata": {}
                },
                {
                    "output_type": "display_data",
                    "data": {
                        "text/html": "Total execution time: 00:00:00.223"
                    },
                    "metadata": {}
                }
            ],
            "execution_count": 3
        },
        {
            "cell_type": "code",
            "source": [
                "\r\n",
                "CREATE TABLE BOOKS(\r\n",
                "\r\n",
                "    id VARCHAR(100) NOT NULL PRIMARY KEY,\r\n",
                "\r\n",
                "    title VARCHAR(100) NOT NULL,\r\n",
                "\r\n",
                "    author VARCHAR(100) NOT NULL,\r\n",
                "\r\n",
                "    price INT DEFAULT(0)\r\n",
                "\r\n",
                ")\r\n",
                "\r\n",
                "\r\n",
                "CREATE TABLE REVIEWS(\r\n",
                "\r\n",
                "    id INT IDENTITY PRIMARY KEY,\r\n",
                "\r\n",
                "    book_id VARCHAR(100) NOT NULL FOREIGN KEY REFERENCES BOOKS(id) ON DELETE CASCADE ON UPDATE CASCADE,\r\n",
                "\r\n",
                "    rating INT NOT NULL\r\n",
                "\r\n",
                ")\r\n",
                "\r\n",
                "\r\n",
                "INSERT  \r\n",
                "\r\n",
                " \r\n",
                "\r\n",
                "    INTO BOOKS(ID,TITLE,AUTHOR,PRICE)\r\n",
                "\r\n",
                " \r\n",
                "\r\n",
                "    VALUES('the-accursed-god','The Accursed God','Vivek Dutta Mishra',399)\r\n",
                "\r\n",
                " \r\n",
                "\r\n",
                " \r\n",
                "\r\n",
                " \r\n",
                "\r\n",
                "\r\n",
                "INSERT  \r\n",
                "\r\n",
                " \r\n",
                "\r\n",
                "    INTO  \r\n",
                "\r\n",
                " \r\n",
                "\r\n",
                "        BOOKS(ID,TITLE,AUTHOR,PRICE)\r\n",
                "\r\n",
                " \r\n",
                "\r\n",
                "    VALUES\r\n",
                "\r\n",
                " \r\n",
                "\r\n",
                "        ('kane-and-abel','Kane and Abel','Jeffrey Archer',450),\r\n",
                "\r\n",
                " \r\n",
                "\r\n",
                "        ('rashmirathi','Rashmirathi','Ramdhari Singh Dinkar',190),\r\n",
                "\r\n",
                " \r\n",
                "\r\n",
                "        ('sons-of-fortune','Sons of Fortune','Jeffrey Archer',450),\r\n",
                "\r\n",
                " \r\n",
                "\r\n",
                "        ('manas','Manas','Vivek Dutta Mishra',199),\r\n",
                "\r\n",
                " \r\n",
                "\r\n",
                "        ('summons','Summons','John Grisham',250),\r\n",
                "\r\n",
                " \r\n",
                "\r\n",
                "        ('five-point-someone','Five Point SomeOne','Chetan Bhagat',250),\r\n",
                "\r\n",
                " \r\n",
                "\r\n",
                "        ('scion-of-ikshavaku','The Scion of Ikshavaku','Amish',300),\r\n",
                "\r\n",
                " \r\n",
                "\r\n",
                "        ('kurukshetra','Kurukshetra','Ramdhari Singh Dinkar',450);"
            ],
            "metadata": {
                "language": "sql",
                "azdata_cell_guid": "47890350-8a19-4781-ae3c-e0193b7ab894"
            },
            "outputs": [
                {
                    "output_type": "display_data",
                    "data": {
                        "text/html": "(1 row affected)"
                    },
                    "metadata": {}
                },
                {
                    "output_type": "display_data",
                    "data": {
                        "text/html": "(8 rows affected)"
                    },
                    "metadata": {}
                },
                {
                    "output_type": "display_data",
                    "data": {
                        "text/html": "Total execution time: 00:00:00.100"
                    },
                    "metadata": {}
                }
            ],
            "execution_count": 5
        },
        {
            "cell_type": "code",
            "source": [
                "\r\n",
                "INSERT INTO  \r\n",
                "\r\n",
                " \r\n",
                "\r\n",
                "    reviews( book_id, rating)\r\n",
                "\r\n",
                " \r\n",
                "\r\n",
                "VALUES\r\n",
                "\r\n",
                " \r\n",
                "\r\n",
                "    ('the-accursed-god',4),\r\n",
                "\r\n",
                " \r\n",
                "\r\n",
                "    ('kane-and-abel',4),\r\n",
                "\r\n",
                " \r\n",
                "\r\n",
                "    ('the-accursed-god',5),\r\n",
                "\r\n",
                " \r\n",
                "\r\n",
                "    ('kane-and-abel',4),\r\n",
                "\r\n",
                " \r\n",
                "\r\n",
                "    ('kane-and-abel',3),\r\n",
                "\r\n",
                " \r\n",
                "\r\n",
                "    ('kane-and-abel',3),\r\n",
                "\r\n",
                " \r\n",
                "\r\n",
                "    ('the-accursed-god',4),\r\n",
                "\r\n",
                " \r\n",
                "\r\n",
                "    ('kane-and-abel',5),\r\n",
                "\r\n",
                " \r\n",
                "\r\n",
                "    ('kane-and-abel',5),\r\n",
                "\r\n",
                " \r\n",
                "\r\n",
                "    ('kane-and-abel',3),\r\n",
                "\r\n",
                " \r\n",
                "\r\n",
                "    ('the-accursed-god',5),\r\n",
                "\r\n",
                " \r\n",
                "\r\n",
                "    ('the-accursed-god',5),\r\n",
                "\r\n",
                " \r\n",
                "\r\n",
                "    ('the-accursed-god',5),\r\n",
                "\r\n",
                " \r\n",
                "\r\n",
                "    ('the-accursed-god',5),\r\n",
                "\r\n",
                " \r\n",
                "\r\n",
                "    ('kane-and-abel',4),\r\n",
                "\r\n",
                " \r\n",
                "\r\n",
                "    ('the-accursed-god',5),\r\n",
                "\r\n",
                " \r\n",
                "\r\n",
                "    ('kane-and-abel',3),\r\n",
                "\r\n",
                " \r\n",
                "\r\n",
                "    ('rashmirathi',5),\r\n",
                "\r\n",
                " \r\n",
                "\r\n",
                "    ('rashmirathi',4),\r\n",
                "\r\n",
                " \r\n",
                "\r\n",
                "    ('rashmirathi',5),\r\n",
                "\r\n",
                " \r\n",
                "\r\n",
                "    ('rashmirathi',5),\r\n",
                "\r\n",
                " \r\n",
                "\r\n",
                "    ('rashmirathi',5),\r\n",
                "\r\n",
                " \r\n",
                "\r\n",
                "    ('harry-potter-1',5),\r\n",
                "\r\n",
                " \r\n",
                "\r\n",
                "    ('harry-potter-2',3),\r\n",
                "\r\n",
                " \r\n",
                "\r\n",
                "    ('harry-potter-2',3),\r\n",
                "\r\n",
                " \r\n",
                "\r\n",
                "    ('harry-potter-3',4),\r\n",
                "\r\n",
                " \r\n",
                "\r\n",
                "    ('harry-potter-3',4),\r\n",
                "\r\n",
                " \r\n",
                "\r\n",
                "    ('harry-potter-1',5),\r\n",
                "\r\n",
                " \r\n",
                "\r\n",
                "    ('harry-potter-4',5),\r\n",
                "\r\n",
                " \r\n",
                "\r\n",
                "    ('harry-potter-4',4),\r\n",
                "\r\n",
                " \r\n",
                "\r\n",
                "    ('harry-potter-5',2),\r\n",
                "\r\n",
                " \r\n",
                "\r\n",
                "    ('harry-potter-6',4),\r\n",
                "\r\n",
                " \r\n",
                "\r\n",
                "    ('harry-potter-6',5),\r\n",
                "\r\n",
                " \r\n",
                "\r\n",
                "    ('harry-potter-6',3),\r\n",
                "\r\n",
                " \r\n",
                "\r\n",
                "    ('harry-potter-7',4),\r\n",
                "\r\n",
                " \r\n",
                "\r\n",
                "    ('five-point-someone',4),\r\n",
                "\r\n",
                " \r\n",
                "\r\n",
                "    ('five-point-someone',2),\r\n",
                "\r\n",
                " \r\n",
                "\r\n",
                "    ('five-point-someone',2),\r\n",
                "\r\n",
                " \r\n",
                "\r\n",
                "    ('five-point-someone',1),\r\n",
                "\r\n",
                " \r\n",
                "\r\n",
                "    ('harry-potter-7',4),\r\n",
                "\r\n",
                " \r\n",
                "\r\n",
                "    ('harry-potter-7',4),\r\n",
                "\r\n",
                " \r\n",
                "\r\n",
                "    ('harry-potter-4',3),\r\n",
                "\r\n",
                " \r\n",
                "\r\n",
                "    ('five-point-someone',2),\r\n",
                "\r\n",
                " \r\n",
                "\r\n",
                "    ('five-point-someone',3),\r\n",
                "\r\n",
                " \r\n",
                "\r\n",
                "    ('five-point-someone',3),\r\n",
                "\r\n",
                " \r\n",
                "\r\n",
                "    ('five-point-someone',1),\r\n",
                "\r\n",
                " \r\n",
                "\r\n",
                "    ('harry-potter-1',4),\r\n",
                "\r\n",
                " \r\n",
                "\r\n",
                "    ('harry-potter-3',2),\r\n",
                "\r\n",
                " \r\n",
                "\r\n",
                "    ('harry-potter-2',5),\r\n",
                "\r\n",
                " \r\n",
                "\r\n",
                "    ('harry-potter-2',5),\r\n",
                "\r\n",
                " \r\n",
                "\r\n",
                "    ('scion-of-ikshavaku',4),\r\n",
                "\r\n",
                " \r\n",
                "\r\n",
                "    ('harry-potter-1',4),\r\n",
                "\r\n",
                " \r\n",
                "\r\n",
                "    ('harry-potter-1',3),\r\n",
                "\r\n",
                " \r\n",
                "\r\n",
                "    ('scion-of-ikshavaku',2),\r\n",
                "\r\n",
                " \r\n",
                "\r\n",
                "    ('harry-potter-2',4),\r\n",
                "\r\n",
                " \r\n",
                "\r\n",
                "    ('harry-potter-5',4),\r\n",
                "\r\n",
                " \r\n",
                "\r\n",
                "    ('scion-of-ikshavaku',2),\r\n",
                "\r\n",
                " \r\n",
                "\r\n",
                "    ('harry-potter-6',3),\r\n",
                "\r\n",
                " \r\n",
                "\r\n",
                "    ('harry-potter-7',5),\r\n",
                "\r\n",
                " \r\n",
                "\r\n",
                "    ('harry-potter-1',5),\r\n",
                "\r\n",
                " \r\n",
                "\r\n",
                "    ('manas',5),\r\n",
                "\r\n",
                " \r\n",
                "\r\n",
                "    ('manas',5),\r\n",
                "\r\n",
                " \r\n",
                "\r\n",
                "    ('manas',5),\r\n",
                "\r\n",
                " \r\n",
                "\r\n",
                "    ('scion-of-ikshavaku',3),\r\n",
                "\r\n",
                " \r\n",
                "\r\n",
                "    ('manas',5),\r\n",
                "\r\n",
                " \r\n",
                "\r\n",
                "    ('manas',4),\r\n",
                "\r\n",
                " \r\n",
                "\r\n",
                "    ('manas',5),\r\n",
                "\r\n",
                " \r\n",
                "\r\n",
                "    ('scion-of-ikshavaku',2),\r\n",
                "\r\n",
                " \r\n",
                "\r\n",
                "    ('manas',5),\r\n",
                "\r\n",
                " \r\n",
                "\r\n",
                "    ('manas',5),\r\n",
                "\r\n",
                " \r\n",
                "\r\n",
                "    ('kurukshetra',5),\r\n",
                "\r\n",
                " \r\n",
                "\r\n",
                "    ('kurukshetra',2),\r\n",
                "\r\n",
                " \r\n",
                "\r\n",
                "    ('kurukshetra',3),\r\n",
                "\r\n",
                " \r\n",
                "\r\n",
                "    ('scion-of-ikshavaku',3),\r\n",
                "\r\n",
                " \r\n",
                "\r\n",
                "    ('kurukshetra',3),\r\n",
                "\r\n",
                " \r\n",
                "\r\n",
                "    ('kurukshetra',3),\r\n",
                "\r\n",
                " \r\n",
                "\r\n",
                "    ('kurukshetra',3),\r\n",
                "\r\n",
                " \r\n",
                "\r\n",
                "    ('sons-of-fortune',3),\r\n",
                "\r\n",
                " \r\n",
                "\r\n",
                "    ('sons-of-fortune',4);"
            ],
            "metadata": {
                "language": "sql",
                "azdata_cell_guid": "0e8cb26a-d502-49b1-9bb5-c33e69a094ed"
            },
            "outputs": [
                {
                    "output_type": "display_data",
                    "data": {
                        "text/html": "(79 rows affected)"
                    },
                    "metadata": {}
                },
                {
                    "output_type": "display_data",
                    "data": {
                        "text/html": "Total execution time: 00:00:00.056"
                    },
                    "metadata": {}
                }
            ],
            "execution_count": 11
        },
        {
            "cell_type": "code",
            "source": [
                "INSERT  \r\n",
                "\r\n",
                " \r\n",
                "\r\n",
                "    INTO  \r\n",
                "\r\n",
                " \r\n",
                "\r\n",
                "        BOOKS(ID,TITLE,AUTHOR,PRICE)\r\n",
                "\r\n",
                " \r\n",
                "\r\n",
                "    VALUES\r\n",
                "\r\n",
                " \r\n",
                "\r\n",
                "        ('harry-potter-1','Harry Potter and the Soccers Stone','JK Rowlings',250),\r\n",
                "\r\n",
                " \r\n",
                "\r\n",
                "        ('harry-potter-2','Harry Potter and the Chambers of Secrets','JK Rowlings',350),\r\n",
                "\r\n",
                " \r\n",
                "\r\n",
                "        ('harry-potter-3','Harry Potter and the Prisoner of Askaban','JK Rowlings',350),\r\n",
                "\r\n",
                " \r\n",
                "\r\n",
                "        ('harry-potter-4','Harry Potter and the Goblet of Fire','JK Rowlings',450),\r\n",
                "\r\n",
                " \r\n",
                "\r\n",
                "        ('harry-potter-5','Harry Potter and the Order of Phoenix','JK Rowlings',450),\r\n",
                "\r\n",
                " \r\n",
                "\r\n",
                "        ('harry-potter-6','Harry Potter and the Half Blood Prince','JK Rowlings',450),\r\n",
                "\r\n",
                " \r\n",
                "\r\n",
                "        ('harry-potter-7','Harry Potter and the Deathly Hollows','JK Rowlings',350);"
            ],
            "metadata": {
                "language": "sql",
                "azdata_cell_guid": "9c37d52d-24bd-4441-a103-46828078d671"
            },
            "outputs": [
                {
                    "output_type": "error",
                    "evalue": "Msg 2627, Level 14, State 1, Line 1\r\nViolation of PRIMARY KEY constraint 'PK__BOOKS__3213E83FF939E1A3'. Cannot insert duplicate key in object 'dbo.BOOKS'. The duplicate key value is (harry-potter-1).",
                    "ename": "",
                    "traceback": []
                },
                {
                    "output_type": "display_data",
                    "data": {
                        "text/html": "The statement has been terminated."
                    },
                    "metadata": {}
                },
                {
                    "output_type": "display_data",
                    "data": {
                        "text/html": "Total execution time: 00:00:00.001"
                    },
                    "metadata": {}
                }
            ],
            "execution_count": 12
        },
        {
            "cell_type": "code",
            "source": [
                "SELECT count(*) from books;\r\n",
                "\r\n",
                "SELECT count(*) from reviews;"
            ],
            "metadata": {
                "language": "sql",
                "azdata_cell_guid": "68d23bca-ee85-4a4a-8054-fe555ef1ecab"
            },
            "outputs": [
                {
                    "output_type": "display_data",
                    "data": {
                        "text/html": "(1 row affected)"
                    },
                    "metadata": {}
                },
                {
                    "output_type": "display_data",
                    "data": {
                        "text/html": "(1 row affected)"
                    },
                    "metadata": {}
                },
                {
                    "output_type": "display_data",
                    "data": {
                        "text/html": "Total execution time: 00:00:00.005"
                    },
                    "metadata": {}
                },
                {
                    "output_type": "execute_result",
                    "metadata": {},
                    "execution_count": 13,
                    "data": {
                        "application/vnd.dataresource+json": {
                            "schema": {
                                "fields": [
                                    {
                                        "name": "(No column name)"
                                    }
                                ]
                            },
                            "data": [
                                {
                                    "(No column name)": "16"
                                }
                            ]
                        },
                        "text/html": [
                            "<table>",
                            "<tr><th>(No column name)</th></tr>",
                            "<tr><td>16</td></tr>",
                            "</table>"
                        ]
                    }
                },
                {
                    "output_type": "execute_result",
                    "metadata": {},
                    "execution_count": 13,
                    "data": {
                        "application/vnd.dataresource+json": {
                            "schema": {
                                "fields": [
                                    {
                                        "name": "(No column name)"
                                    }
                                ]
                            },
                            "data": [
                                {
                                    "(No column name)": "79"
                                }
                            ]
                        },
                        "text/html": [
                            "<table>",
                            "<tr><th>(No column name)</th></tr>",
                            "<tr><td>79</td></tr>",
                            "</table>"
                        ]
                    }
                }
            ],
            "execution_count": 13
        },
        {
            "cell_type": "code",
            "source": [
                "\r\n",
                "select  \r\n",
                "\r\n",
                "   \r\n",
                "\r\n",
                "    author,\r\n",
                "\r\n",
                "    title,\r\n",
                "\r\n",
                "    rating,\r\n",
                "\r\n",
                "    votes\r\n",
                "\r\n",
                "from books as b,\r\n",
                "\r\n",
                "    (   select book_id as id,\r\n",
                "\r\n",
                "        count(*) as votes,\r\n",
                "\r\n",
                "        round(avg(cast(rating as float)),1) as rating\r\n",
                "\r\n",
                "        from reviews\r\n",
                "\r\n",
                "        group by book_id\r\n",
                "\r\n",
                "    ) as r\r\n",
                "\r\n",
                " \r\n",
                "\r\n",
                "    where b.id = r.id"
            ],
            "metadata": {
                "language": "sql",
                "azdata_cell_guid": "754c6962-e67f-4a2c-9341-989defc299e7"
            },
            "outputs": [
                {
                    "output_type": "display_data",
                    "data": {
                        "text/html": "(15 rows affected)"
                    },
                    "metadata": {}
                },
                {
                    "output_type": "display_data",
                    "data": {
                        "text/html": "Total execution time: 00:00:00.009"
                    },
                    "metadata": {}
                },
                {
                    "output_type": "execute_result",
                    "metadata": {},
                    "execution_count": 31,
                    "data": {
                        "application/vnd.dataresource+json": {
                            "schema": {
                                "fields": [
                                    {
                                        "name": "author"
                                    },
                                    {
                                        "name": "title"
                                    },
                                    {
                                        "name": "rating"
                                    },
                                    {
                                        "name": "votes"
                                    }
                                ]
                            },
                            "data": [
                                {
                                    "author": "Chetan Bhagat",
                                    "title": "Five Point SomeOne",
                                    "rating": "2.3",
                                    "votes": "8"
                                },
                                {
                                    "author": "JK Rowlings",
                                    "title": "Harry Potter and the Soccers Stone",
                                    "rating": "4.3",
                                    "votes": "6"
                                },
                                {
                                    "author": "JK Rowlings",
                                    "title": "Harry Potter and the Chambers of Secrets",
                                    "rating": "4",
                                    "votes": "5"
                                },
                                {
                                    "author": "JK Rowlings",
                                    "title": "Harry Potter and the Prisoner of Askaban",
                                    "rating": "3.3",
                                    "votes": "3"
                                },
                                {
                                    "author": "JK Rowlings",
                                    "title": "Harry Potter and the Goblet of Fire",
                                    "rating": "4",
                                    "votes": "3"
                                },
                                {
                                    "author": "JK Rowlings",
                                    "title": "Harry Potter and the Order of Phoenix",
                                    "rating": "3",
                                    "votes": "2"
                                },
                                {
                                    "author": "JK Rowlings",
                                    "title": "Harry Potter and the Half Blood Prince",
                                    "rating": "3.8",
                                    "votes": "4"
                                },
                                {
                                    "author": "JK Rowlings",
                                    "title": "Harry Potter and the Deathly Hollows",
                                    "rating": "4.3",
                                    "votes": "4"
                                },
                                {
                                    "author": "Jeffrey Archer",
                                    "title": "Kane and Abel",
                                    "rating": "3.8",
                                    "votes": "9"
                                },
                                {
                                    "author": "Ramdhari Singh Dinkar",
                                    "title": "Kurukshetra",
                                    "rating": "3.2",
                                    "votes": "6"
                                },
                                {
                                    "author": "Vivek Dutta Mishra",
                                    "title": "Manas",
                                    "rating": "4.9",
                                    "votes": "8"
                                },
                                {
                                    "author": "Ramdhari Singh Dinkar",
                                    "title": "Rashmirathi",
                                    "rating": "4.8",
                                    "votes": "5"
                                },
                                {
                                    "author": "Amish",
                                    "title": "The Scion of Ikshavaku",
                                    "rating": "2.7",
                                    "votes": "6"
                                },
                                {
                                    "author": "Jeffrey Archer",
                                    "title": "Sons of Fortune",
                                    "rating": "3.5",
                                    "votes": "2"
                                },
                                {
                                    "author": "Vivek Dutta Mishra",
                                    "title": "The Accursed God",
                                    "rating": "4.8",
                                    "votes": "8"
                                }
                            ]
                        },
                        "text/html": [
                            "<table>",
                            "<tr><th>author</th><th>title</th><th>rating</th><th>votes</th></tr>",
                            "<tr><td>Chetan Bhagat</td><td>Five Point SomeOne</td><td>2.3</td><td>8</td></tr>",
                            "<tr><td>JK Rowlings</td><td>Harry Potter and the Soccers Stone</td><td>4.3</td><td>6</td></tr>",
                            "<tr><td>JK Rowlings</td><td>Harry Potter and the Chambers of Secrets</td><td>4</td><td>5</td></tr>",
                            "<tr><td>JK Rowlings</td><td>Harry Potter and the Prisoner of Askaban</td><td>3.3</td><td>3</td></tr>",
                            "<tr><td>JK Rowlings</td><td>Harry Potter and the Goblet of Fire</td><td>4</td><td>3</td></tr>",
                            "<tr><td>JK Rowlings</td><td>Harry Potter and the Order of Phoenix</td><td>3</td><td>2</td></tr>",
                            "<tr><td>JK Rowlings</td><td>Harry Potter and the Half Blood Prince</td><td>3.8</td><td>4</td></tr>",
                            "<tr><td>JK Rowlings</td><td>Harry Potter and the Deathly Hollows</td><td>4.3</td><td>4</td></tr>",
                            "<tr><td>Jeffrey Archer</td><td>Kane and Abel</td><td>3.8</td><td>9</td></tr>",
                            "<tr><td>Ramdhari Singh Dinkar</td><td>Kurukshetra</td><td>3.2</td><td>6</td></tr>",
                            "<tr><td>Vivek Dutta Mishra</td><td>Manas</td><td>4.9</td><td>8</td></tr>",
                            "<tr><td>Ramdhari Singh Dinkar</td><td>Rashmirathi</td><td>4.8</td><td>5</td></tr>",
                            "<tr><td>Amish</td><td>The Scion of Ikshavaku</td><td>2.7</td><td>6</td></tr>",
                            "<tr><td>Jeffrey Archer</td><td>Sons of Fortune</td><td>3.5</td><td>2</td></tr>",
                            "<tr><td>Vivek Dutta Mishra</td><td>The Accursed God</td><td>4.8</td><td>8</td></tr>",
                            "</table>"
                        ]
                    }
                }
            ],
            "execution_count": 31
        },
        {
            "cell_type": "code",
            "source": [
                "SELECT\r\n",
                "    title,\r\n",
                "    author\r\n",
                "FROM \r\n",
                "    BOOKS,\r\n",
                "    (\r\n",
                "        SELECT\r\n",
                "            book_id as Book_ID,\r\n",
                "            COUNT(*) as Votes,\r\n",
                "            ROUND(AVG(CAST(rating as float)), 1) as Rating\r\n",
                "        FROM\r\n",
                "            Reviews\r\n",
                "        GROUP BY\r\n",
                "            book_id\r\n",
                "    ) as r\r\n",
                "WHERE\r\n",
                "    id = r.Book_ID\r\n",
                "GROUP BY\r\n",
                "    author;"
            ],
            "metadata": {
                "language": "sql",
                "azdata_cell_guid": "b018b665-6f8f-476e-bb73-5ab727c8d8da"
            },
            "outputs": [
                {
                    "output_type": "error",
                    "evalue": "Msg 8120, Level 16, State 1, Line 2\r\nColumn 'BOOKS.title' is invalid in the select list because it is not contained in either an aggregate function or the GROUP BY clause.",
                    "ename": "",
                    "traceback": []
                },
                {
                    "output_type": "display_data",
                    "data": {
                        "text/html": "Total execution time: 00:00:00"
                    },
                    "metadata": {}
                }
            ],
            "execution_count": 30
        },
        {
            "cell_type": "markdown",
            "source": [
                "### **ASSIGNMENT 13**"
            ],
            "metadata": {
                "azdata_cell_guid": "15a7fbf0-148c-4d5f-b822-4188d02ae31a"
            },
            "attachments": {}
        },
        {
            "cell_type": "code",
            "source": [
                "SELECT\r\n",
                "    author,\r\n",
                "    COUNT(*) as books_written,\r\n",
                "    SUM(r.Votes) as total_votes,\r\n",
                "    ROUND(AVG(CAST(r.Rating as float)),1) as Average_Rating\r\n",
                "FROM \r\n",
                "    BOOKS,\r\n",
                "    (\r\n",
                "        SELECT\r\n",
                "            book_id as Book_ID,\r\n",
                "            COUNT(*) as Votes,\r\n",
                "            ROUND(AVG(CAST(rating as float)), 1) as Rating\r\n",
                "        FROM\r\n",
                "            Reviews\r\n",
                "        GROUP BY\r\n",
                "            book_id\r\n",
                "    ) as r\r\n",
                "WHERE\r\n",
                "    id = r.Book_ID\r\n",
                "GROUP BY\r\n",
                "    author;"
            ],
            "metadata": {
                "language": "sql",
                "azdata_cell_guid": "2bfb5400-4254-4afa-aaac-1b73b38028ca"
            },
            "outputs": [
                {
                    "output_type": "display_data",
                    "data": {
                        "text/html": "(6 rows affected)"
                    },
                    "metadata": {}
                },
                {
                    "output_type": "display_data",
                    "data": {
                        "text/html": "Total execution time: 00:00:00.074"
                    },
                    "metadata": {}
                },
                {
                    "output_type": "execute_result",
                    "metadata": {},
                    "execution_count": 38,
                    "data": {
                        "application/vnd.dataresource+json": {
                            "schema": {
                                "fields": [
                                    {
                                        "name": "author"
                                    },
                                    {
                                        "name": "books_written"
                                    },
                                    {
                                        "name": "total_votes"
                                    },
                                    {
                                        "name": "Average_Rating"
                                    }
                                ]
                            },
                            "data": [
                                {
                                    "author": "Amish",
                                    "books_written": "1",
                                    "total_votes": "6",
                                    "Average_Rating": "2.7"
                                },
                                {
                                    "author": "Chetan Bhagat",
                                    "books_written": "1",
                                    "total_votes": "8",
                                    "Average_Rating": "2.3"
                                },
                                {
                                    "author": "Jeffrey Archer",
                                    "books_written": "2",
                                    "total_votes": "11",
                                    "Average_Rating": "3.6"
                                },
                                {
                                    "author": "JK Rowlings",
                                    "books_written": "7",
                                    "total_votes": "27",
                                    "Average_Rating": "3.8"
                                },
                                {
                                    "author": "Ramdhari Singh Dinkar",
                                    "books_written": "2",
                                    "total_votes": "11",
                                    "Average_Rating": "4"
                                },
                                {
                                    "author": "Vivek Dutta Mishra",
                                    "books_written": "2",
                                    "total_votes": "16",
                                    "Average_Rating": "4.8"
                                }
                            ]
                        },
                        "text/html": [
                            "<table>",
                            "<tr><th>author</th><th>books_written</th><th>total_votes</th><th>Average_Rating</th></tr>",
                            "<tr><td>Amish</td><td>1</td><td>6</td><td>2.7</td></tr>",
                            "<tr><td>Chetan Bhagat</td><td>1</td><td>8</td><td>2.3</td></tr>",
                            "<tr><td>Jeffrey Archer</td><td>2</td><td>11</td><td>3.6</td></tr>",
                            "<tr><td>JK Rowlings</td><td>7</td><td>27</td><td>3.8</td></tr>",
                            "<tr><td>Ramdhari Singh Dinkar</td><td>2</td><td>11</td><td>4</td></tr>",
                            "<tr><td>Vivek Dutta Mishra</td><td>2</td><td>16</td><td>4.8</td></tr>",
                            "</table>"
                        ]
                    }
                }
            ],
            "execution_count": 38
        }
    ]
}